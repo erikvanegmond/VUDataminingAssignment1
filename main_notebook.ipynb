{
 "cells": [
  {
   "cell_type": "code",
   "execution_count": 3,
   "metadata": {
    "collapsed": false
   },
   "outputs": [
    {
     "name": "stdout",
     "output_type": "stream",
     "text": [
      "data opened\n"
     ]
    },
    {
     "ename": "UnboundLocalError",
     "evalue": "local variable 'window_time' referenced before assignment",
     "output_type": "error",
     "traceback": [
      "\u001b[1;31m---------------------------------------------------------------------------\u001b[0m",
      "\u001b[1;31mUnboundLocalError\u001b[0m                         Traceback (most recent call last)",
      "\u001b[1;32m<ipython-input-3-edd980983cc4>\u001b[0m in \u001b[0;36m<module>\u001b[1;34m()\u001b[0m\n\u001b[0;32m     78\u001b[0m \u001b[1;33m\u001b[0m\u001b[0m\n\u001b[0;32m     79\u001b[0m \u001b[1;33m\u001b[0m\u001b[0m\n\u001b[1;32m---> 80\u001b[1;33m \u001b[0mdata\u001b[0m\u001b[1;33m,\u001b[0m \u001b[0mtarget\u001b[0m\u001b[1;33m,\u001b[0m \u001b[0mtime\u001b[0m \u001b[1;33m=\u001b[0m \u001b[0mdata_aggregator\u001b[0m\u001b[1;33m.\u001b[0m\u001b[0mread\u001b[0m\u001b[1;33m(\u001b[0m\u001b[1;33m)\u001b[0m\u001b[1;33m\u001b[0m\u001b[0m\n\u001b[0m\u001b[0;32m     81\u001b[0m \u001b[0mnumber_windows\u001b[0m \u001b[1;33m=\u001b[0m \u001b[0mrange\u001b[0m\u001b[1;33m(\u001b[0m\u001b[0mlen\u001b[0m\u001b[1;33m(\u001b[0m\u001b[0mtarget\u001b[0m\u001b[1;33m)\u001b[0m\u001b[1;33m)\u001b[0m\u001b[1;33m\u001b[0m\u001b[0m\n\u001b[0;32m     82\u001b[0m \u001b[1;33m\u001b[0m\u001b[0m\n",
      "\u001b[1;32mC:\\Users\\Celeste\\Documents\\GitHub\\VUDataminingAssignment1\\data_aggregator.py\u001b[0m in \u001b[0;36mread\u001b[1;34m(self, method)\u001b[0m\n\u001b[0;32m     28\u001b[0m \u001b[1;33m\u001b[0m\u001b[0m\n\u001b[0;32m     29\u001b[0m         \u001b[1;32mif\u001b[0m \u001b[0mmethod\u001b[0m \u001b[1;33m==\u001b[0m \u001b[1;34m'combined'\u001b[0m\u001b[1;33m:\u001b[0m\u001b[1;33m\u001b[0m\u001b[0m\n\u001b[1;32m---> 30\u001b[1;33m             \u001b[1;32mreturn\u001b[0m \u001b[0mself\u001b[0m\u001b[1;33m.\u001b[0m\u001b[0mwindow_combined_days\u001b[0m\u001b[1;33m(\u001b[0m\u001b[0mself\u001b[0m\u001b[1;33m.\u001b[0m\u001b[0mwindow_size\u001b[0m\u001b[1;33m)\u001b[0m\u001b[1;33m\u001b[0m\u001b[0m\n\u001b[0m\u001b[0;32m     31\u001b[0m         \u001b[1;32melif\u001b[0m \u001b[0mmethod\u001b[0m \u001b[1;33m==\u001b[0m \u001b[1;34m'separate'\u001b[0m\u001b[1;33m:\u001b[0m\u001b[1;33m\u001b[0m\u001b[0m\n\u001b[0;32m     32\u001b[0m             \u001b[1;32mreturn\u001b[0m \u001b[0mself\u001b[0m\u001b[1;33m.\u001b[0m\u001b[0mwindow_separate_days\u001b[0m\u001b[1;33m(\u001b[0m\u001b[0mself\u001b[0m\u001b[1;33m.\u001b[0m\u001b[0mwindow_size\u001b[0m\u001b[1;33m)\u001b[0m\u001b[1;33m\u001b[0m\u001b[0m\n",
      "\u001b[1;32mC:\\Users\\Celeste\\Documents\\GitHub\\VUDataminingAssignment1\\data_aggregator.py\u001b[0m in \u001b[0;36mwindow_combined_days\u001b[1;34m(self, window_size)\u001b[0m\n\u001b[0;32m    127\u001b[0m \u001b[1;33m\u001b[0m\u001b[0m\n\u001b[0;32m    128\u001b[0m                         \u001b[1;31m# target.append()\u001b[0m\u001b[1;33m\u001b[0m\u001b[1;33m\u001b[0m\u001b[0m\n\u001b[1;32m--> 129\u001b[1;33m         \u001b[1;32mreturn\u001b[0m \u001b[0mnp\u001b[0m\u001b[1;33m.\u001b[0m\u001b[0marray\u001b[0m\u001b[1;33m(\u001b[0m\u001b[0mdata\u001b[0m\u001b[1;33m)\u001b[0m\u001b[1;33m,\u001b[0m \u001b[0mnp\u001b[0m\u001b[1;33m.\u001b[0m\u001b[0marray\u001b[0m\u001b[1;33m(\u001b[0m\u001b[0mtarget\u001b[0m\u001b[1;33m)\u001b[0m\u001b[1;33m,\u001b[0m \u001b[0mnp\u001b[0m\u001b[1;33m.\u001b[0m\u001b[0marray\u001b[0m\u001b[1;33m(\u001b[0m\u001b[0mtime\u001b[0m\u001b[1;33m)\u001b[0m\u001b[1;33m\u001b[0m\u001b[0m\n\u001b[0m",
      "\u001b[1;31mUnboundLocalError\u001b[0m: local variable 'window_time' referenced before assignment"
     ]
    }
   ],
   "source": [
    "import data_aggregator as dr\n",
    "from scipy.optimize import brute\n",
    "import statsmodels.api as sm\n",
    "import pandas as pd\n",
    "import datetime\n",
    "import matplotlib.pyplot as plt\n",
    "\n",
    "import numpy as np\n",
    "from sklearn.tree import DecisionTreeClassifier\n",
    "from sklearn import cross_validation\n",
    "import  sklearn.metrics as metrics\n",
    "\n",
    "def testDecisionTree(window_size, data_aggregator):\n",
    "    data, target = data_aggregator.read()\n",
    "    print \"\\n\\nTesting window size\", window_size\n",
    "    for _ in range(1):\n",
    "        data_train, data_test, target_train, target_test = cross_validation.train_test_split(data, target,\n",
    "                                                                                             test_size=0.3)\n",
    "\n",
    "        clf = DecisionTreeClassifier()\n",
    "        clf = clf.fit(data_train, target_train)\n",
    "\n",
    "        data_score = clf.score(data_test, target_test)\n",
    "        print \"score trained:\", data_score\n",
    "    \n",
    "    data_score1 = clf.score(data_test, [1] * len(target_test))\n",
    "    print \"score 1:\", data_score\n",
    "    data_score2 = clf.score(data_test, [2] * len(target_test))\n",
    "    print \"score 2:\", data_score\n",
    "    data_score3 = clf.score(data_test, [3] * len(target_test))\n",
    "    print \"score 3:\", data_score\n",
    "    data_score4 = clf.score(data_test, [4] * len(target_test))\n",
    "    print \"score 4:\", data_score\n",
    "    data_score5 = clf.score(data_test, [5] * len(target_test))\n",
    "    print \"score 5:\", data_score\n",
    "    data_score6 = clf.score(data_test, [6] * len(target_test))\n",
    "    print \"score 6:\", data_score\n",
    "    data_score7 = clf.score(data_test, [7] * len(target_test))\n",
    "    print \"score 7:\", data_score\n",
    "    data_score8 = clf.score(data_test, [8] * len(target_test))\n",
    "    print \"score 8:\", data_score\n",
    "    data_score9 = clf.score(data_test, [9] * len(target_test))\n",
    "    print \"score 9:\", data_score\n",
    "    data_score10 = clf.score(data_test, [10] * len(target_test))\n",
    "    print \"score 10:\", data_score\n",
    "    datascorelist = [data_score1, data_score2, data_score3, data_score4, data_score5, data_score6, data_score7, data_score8, data_score9, data_score10]\n",
    "    range_datascores = range(len(datascorelist))\n",
    "    \n",
    "    plt.plot(range_datascores,datascorelist)\n",
    "#     plt.hist(datascorelist)\n",
    "#     plt.title(\"Accuracy naive classifiers\")\n",
    "#     plt.xlabel(\"Value of labels\")\n",
    "#     plt.ylabel(\"Accuracy\")\n",
    "    plt.show()\n",
    "    \n",
    "\n",
    "\n",
    "def testARIMA(data_aggregator):\n",
    "    data = data_aggregator.read(method='all')\n",
    "    arma_mod20 = sm.tsa.ARMA(data, (2, 0), freq='D').fit()\n",
    "    print arma_mod20\n",
    "    start = '2014-03-30'\n",
    "    end = '2014-05-04'\n",
    "    predict_moods = arma_mod20.predict(start, end, dynamic=True)\n",
    "    real_moods = data[start:end]\n",
    "    print predict_moods.round(0)\n",
    "    print real_moods.round(0)\n",
    "    print metrics.mean_squared_error(real_moods, predict_moods)\n",
    "    print metrics.accuracy_score(real_moods.round(0), predict_moods.round(0))\n",
    "\n",
    "\n",
    "\n",
    "#filepath = 'data/dataset_mood_smartphone.csv'\n",
    "filepath = 'data/dataset_small.csv'\n",
    "\n",
    "data_aggregator = dr.DataAggregator(filepath)\n",
    "#testDecisionTree(5, data_aggregator)\n",
    "\n",
    "\n",
    "data, target, time = data_aggregator.read()\n",
    "number_windows = range(len(target))\n",
    "\n",
    "print time\n",
    "\n",
    "plt.plot(time, target)\n",
    "plt.title(\"Mood of one person changing \")\n",
    "plt.xlabel(\"time\")\n",
    "plt.ylabel(\"mood\")\n",
    "plt.show()\n",
    "#testARIMA(data_aggregator)"
   ]
  },
  {
   "cell_type": "code",
   "execution_count": null,
   "metadata": {
    "collapsed": true
   },
   "outputs": [],
   "source": []
  },
  {
   "cell_type": "code",
   "execution_count": null,
   "metadata": {
    "collapsed": true
   },
   "outputs": [],
   "source": []
  }
 ],
 "metadata": {
  "kernelspec": {
   "display_name": "Python 2",
   "language": "python",
   "name": "python2"
  },
  "language_info": {
   "codemirror_mode": {
    "name": "ipython",
    "version": 2
   },
   "file_extension": ".py",
   "mimetype": "text/x-python",
   "name": "python",
   "nbconvert_exporter": "python",
   "pygments_lexer": "ipython2",
   "version": "2.7.11"
  }
 },
 "nbformat": 4,
 "nbformat_minor": 0
}
