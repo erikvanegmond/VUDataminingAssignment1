{
 "cells": [
  {
   "cell_type": "code",
   "execution_count": 61,
   "metadata": {
    "collapsed": false
   },
   "outputs": [],
   "source": [
    "import data_aggregator as dr\n",
    "from sklearn.tree import DecisionTreeClassifier\n",
    "from sklearn.ensemble import RandomForestClassifier\n",
    "from sklearn import cross_validation\n",
    "import sklearn.metrics as metrics\n",
    "import numpy as np\n",
    "import matplotlib.pyplot as plt\n",
    "from collections import Counter, OrderedDict\n",
    "from pprint import *\n",
    "%matplotlib inline"
   ]
  },
  {
   "cell_type": "code",
   "execution_count": 33,
   "metadata": {
    "collapsed": false
   },
   "outputs": [
    {
     "name": "stdout",
     "output_type": "stream",
     "text": [
      "data opened\n"
     ]
    }
   ],
   "source": [
    "filepath = 'data/dataset_mood_smartphone.csv'\n",
    "\n",
    "data_aggregator = dr.DataAggregator(filepath)\n",
    "window_size = 5\n",
    "data, target = data_aggregator.read()"
   ]
  },
  {
   "cell_type": "code",
   "execution_count": 119,
   "metadata": {
    "collapsed": false
   },
   "outputs": [
    {
     "name": "stdout",
     "output_type": "stream",
     "text": [
      "Counter({7: 0.502262443438914, 6: 0.333710407239819, 8: 0.09841628959276018, 5: 0.053167420814479636, 4: 0.006787330316742082, 3: 0.003393665158371041, 9: 0.0022624434389140274})\n",
      "OrderedDict([('normal weighted', 0.51187335092348285), ('normal', 0.48812664907651715), ('random forest', 0.56464379947229548)])\n"
     ]
    },
    {
     "data": {
      "image/png": "[encoded data removed]",
      "text/plain": [
       "<matplotlib.figure.Figure at 0xbb58898>"
      ]
     },
     "metadata": {},
     "output_type": "display_data"
    }
   ],
   "source": [
    "data_train, data_test, target_train, target_test = cross_validation.train_test_split(data, target,\n",
    "                                                                                         test_size=0.3)\n",
    "\n",
    "# target_train = np.append(target_train, [10])\n",
    "plt.hist(target_train, bins=range(1,12))\n",
    "weights = Counter(target_train.tolist())\n",
    "total = sum(weights.values(), 0.0)\n",
    "for key in weights:\n",
    "    weights[key] /= total\n",
    "\n",
    "clfw = DecisionTreeClassifier(class_weight=weights)\n",
    "clf = DecisionTreeClassifier()\n",
    "rfc = RandomForestClassifier(n_estimators = 20)\n",
    "clfw = clfw.fit(data_train, target_train)\n",
    "clf          = clf.fit(data_train, target_train)\n",
    "rfc          = rfc.fit(data_train, target_train)\n",
    "\n",
    "scores = OrderedDict()\n",
    "\n",
    "scores['normal weighted'] = clfw.score(data_test, target_test)\n",
    "scores['normal'] = clf.score(data_test, target_test)\n",
    "scores['random forest'] = rfc.score(data_test, target_test)\n",
    "\n",
    "\n",
    "print weights\n",
    "pprint(scores)\n",
    "plt.show()"
   ]
  },
  {
   "cell_type": "code",
   "execution_count": null,
   "metadata": {
    "collapsed": true
   },
   "outputs": [],
   "source": [
    ""
   ]
  },
  {
   "cell_type": "code",
   "execution_count": null,
   "metadata": {
    "collapsed": true
   },
   "outputs": [],
   "source": [
    ""
   ]
  }
 ],
 "metadata": {
  "kernelspec": {
   "display_name": "Python 2",
   "language": "python",
   "name": "python2"
  },
  "language_info": {
   "codemirror_mode": {
    "name": "ipython",
    "version": 2.0
   },
   "file_extension": ".py",
   "mimetype": "text/x-python",
   "name": "python",
   "nbconvert_exporter": "python",
   "pygments_lexer": "ipython2",
   "version": "2.7.11"
  }
 },
 "nbformat": 4,
 "nbformat_minor": 0
}