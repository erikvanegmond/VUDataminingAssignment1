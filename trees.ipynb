{
 "cells": [
  {
   "cell_type": "code",
   "execution_count": 1,
   "metadata": {
    "collapsed": false
   },
   "outputs": [],
   "source": [
    "import data_aggregator as dr\n",
    "from sklearn.tree import DecisionTreeClassifier\n",
    "from sklearn.ensemble import RandomForestClassifier\n",
    "from sklearn import cross_validation\n",
    "import sklearn.metrics as metrics\n",
    "import numpy as np\n",
    "import matplotlib.pyplot as plt\n",
    "from collections import Counter, OrderedDict\n",
    "from pprint import *\n",
    "%matplotlib inline"
   ]
  },
  {
   "cell_type": "code",
   "execution_count": 6,
   "metadata": {
    "collapsed": false
   },
   "outputs": [
    {
     "name": "stdout",
     "output_type": "stream",
     "text": [
      "data opened\n"
     ]
    }
   ],
   "source": [
    "filepath = 'data/dataset_mood_smartphone.csv'\n",
    "\n",
    "data_aggregator = dr.DataAggregator(filepath)"
   ]
  },
  {
   "cell_type": "code",
   "execution_count": 5,
   "metadata": {
    "collapsed": false
   },
   "outputs": [
    {
     "name": "stdout",
     "output_type": "stream",
     "text": [
      "data opened\n"
     ]
    }
   ],
   "source": [
    "\n",
    "window_size = 5\n",
    "data, target, _, _, _ = data_aggregator.read(method='combined')"
   ]
  },
  {
   "cell_type": "code",
   "execution_count": 13,
   "metadata": {
    "collapsed": false
   },
   "outputs": [
    {
     "name": "stdout",
     "output_type": "stream",
     "text": [
      "Counter({7: 0.5113122171945701, 6: 0.32918552036199095, 8: 0.09502262443438914, 5: 0.053167420814479636, 4: 0.006787330316742082, 3: 0.003393665158371041, 9: 0.0011312217194570137})\n",
      "normal weighted \t[0.45910290237467016, 1.0474934036939314]\n",
      "normal \t[0.45646437994722955, 1.0158311345646438]\n",
      "random forest \t[0.57519788918205805, 0.72559366754617416]\n"
     ]
    },
    {
     "data": {
      "image/png": "[encoded data removed]",
      "text/plain": [
       "<matplotlib.figure.Figure at 0x118364e0>"
      ]
     },
     "metadata": {},
     "output_type": "display_data"
    }
   ],
   "source": [
    "data_train, data_test, target_train, target_test = cross_validation.train_test_split(data, target,\n",
    "                                                                                         test_size=0.3)\n",
    "\n",
    "# target_train = np.append(target_train, [10])\n",
    "plt.hist(target_train, bins=range(1,12))\n",
    "weights = Counter(target_train.tolist())\n",
    "total = sum(weights.values(), 0.0)\n",
    "for key in weights:\n",
    "    weights[key] /= total\n",
    "\n",
    "clfw = DecisionTreeClassifier(class_weight=weights)\n",
    "clf = DecisionTreeClassifier()\n",
    "rfc = RandomForestClassifier(n_estimators = 20)\n",
    "clfw = clfw.fit(data_train, target_train)\n",
    "clf          = clf.fit(data_train, target_train)\n",
    "rfc          = rfc.fit(data_train, target_train)\n",
    "\n",
    "scores = OrderedDict()\n",
    "\n",
    "scores['normal weighted'] = [clfw.score(data_test, target_test),metrics.mean_squared_error(target_test, clfw.predict(data_test))]\n",
    "scores['normal'] = [clf.score(data_test, target_test),metrics.mean_squared_error(target_test, clf.predict(data_test))]\n",
    "scores['random forest'] = [rfc.score(data_test, target_test),metrics.mean_squared_error(target_test, rfc.predict(data_test))]\n",
    "\n",
    "\n",
    "print weights\n",
    "for k,v in scores.items():\n",
    "    print k, \"\\t\", v\n",
    "plt.show()"
   ]
  },
  {
   "cell_type": "code",
   "execution_count": null,
   "metadata": {
    "collapsed": true
   },
   "outputs": [],
   "source": []
  },
  {
   "cell_type": "code",
   "execution_count": null,
   "metadata": {
    "collapsed": true
   },
   "outputs": [],
   "source": []
  }
 ],
 "metadata": {
  "kernelspec": {
   "display_name": "Python 2",
   "language": "python",
   "name": "python2"
  },
  "language_info": {
   "codemirror_mode": {
    "name": "ipython",
    "version": 2
   },
   "file_extension": ".py",
   "mimetype": "text/x-python",
   "name": "python",
   "nbconvert_exporter": "python",
   "pygments_lexer": "ipython2",
   "version": "2.7.11"
  }
 },
 "nbformat": 4,
 "nbformat_minor": 0
}
