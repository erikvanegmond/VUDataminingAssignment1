{
 "cells": [
  {
   "cell_type": "code",
   "execution_count": 1,
   "metadata": {
    "collapsed": false
   },
   "outputs": [],
   "source": [
    "import data_aggregator as dr\n",
    "from sklearn.tree import DecisionTreeClassifier\n",
    "from sklearn.ensemble import RandomForestClassifier\n",
    "from sklearn import cross_validation\n",
    "import sklearn.metrics as metrics\n",
    "import numpy as np\n",
    "import matplotlib.pyplot as plt\n",
    "from collections import Counter, OrderedDict\n",
    "from pprint import *\n",
    "%matplotlib inline"
   ]
  },
  {
   "cell_type": "code",
   "execution_count": 6,
   "metadata": {
    "collapsed": false
   },
   "outputs": [
    {
     "name": "stdout",
     "output_type": "stream",
     "text": [
      "data opened\n"
     ]
    }
   ],
   "source": [
    "filepath = 'data/dataset_mood_smartphone.csv'\n",
    "\n",
    "data_aggregator = dr.DataAggregator(filepath)"
   ]
  },
  {
   "cell_type": "code",
   "execution_count": 5,
   "metadata": {
    "collapsed": false
   },
   "outputs": [
    {
     "name": "stdout",
     "output_type": "stream",
     "text": [
      "data opened\n"
     ]
    }
   ],
   "source": [
    "\n",
    "window_size = 5\n",
    "data, target, _, _, _ = data_aggregator.read(method='combined')"
   ]
  },
  {
   "cell_type": "code",
   "execution_count": 23,
   "metadata": {
    "collapsed": false,
    "scrolled": true
   },
   "outputs": [
    {
     "name": "stdout",
     "output_type": "stream",
     "text": [
      "Counter({7: 0.5260180995475113, 6: 0.3246606334841629, 8: 0.08710407239819004, 5: 0.04638009049773756, 4: 0.007918552036199095, 3: 0.004524886877828055, 9: 0.003393665158371041})\n",
      "normal weighted: 0.4660 | 0.9248\n",
      "normal: 0.4662 | 0.9496\n",
      "random forest: 0.5449 | 0.6813\n"
     ]
    }
   ],
   "source": [
    "scores = OrderedDict()\n",
    "scores['normal weighted'] = {'score':[], 'mse':[]}\n",
    "scores['normal'] = {'score':[], 'mse':[]}\n",
    "scores['random forest'] = {'score':[], 'mse':[]}\n",
    "\n",
    "for _ in range(10):\n",
    "    data_train, data_test, target_train, target_test = cross_validation.train_test_split(data, target,\n",
    "                                                                                             test_size=0.3)\n",
    "\n",
    "    # target_train = np.append(target_train, [10])\n",
    "#     plt.hist(target_train, bins=range(1,12))\n",
    "    weights = Counter(target_train.tolist())\n",
    "    total = sum(weights.values(), 0.0)\n",
    "    for key in weights:\n",
    "        weights[key] /= total\n",
    "\n",
    "    clfw = DecisionTreeClassifier(class_weight=weights)\n",
    "    clf = DecisionTreeClassifier()\n",
    "    rfc = RandomForestClassifier(n_estimators = 20)\n",
    "    clfw = clfw.fit(data_train, target_train)\n",
    "    clf          = clf.fit(data_train, target_train)\n",
    "    rfc          = rfc.fit(data_train, target_train)\n",
    "\n",
    "\n",
    "    scores['normal weighted']['score'].append(clfw.score(data_test, target_test))\n",
    "    scores['normal weighted']['mse'].append(metrics.mean_squared_error(target_test, clfw.predict(data_test)))\n",
    "    scores['normal']['score'].append(clf.score(data_test, target_test))\n",
    "    scores['normal']['mse'].append(metrics.mean_squared_error(target_test, clf.predict(data_test)))\n",
    "    scores['random forest']['score'].append(rfc.score(data_test, target_test))\n",
    "    scores['random forest']['mse'].append(metrics.mean_squared_error(target_test, rfc.predict(data_test)))\n",
    "\n",
    "\n",
    "print weights\n",
    "for k,v in scores.items():\n",
    "    print \"%s: %.4f | %.4f\" % (k, np.mean(v['score']), np.mean(v['mse']))\n",
    "# plt.show()"
   ]
  },
  {
   "cell_type": "code",
   "execution_count": null,
   "metadata": {
    "collapsed": true
   },
   "outputs": [],
   "source": []
  },
  {
   "cell_type": "code",
   "execution_count": null,
   "metadata": {
    "collapsed": true
   },
   "outputs": [],
   "source": []
  }
 ],
 "metadata": {
  "kernelspec": {
   "display_name": "Python 2",
   "language": "python",
   "name": "python2"
  },
  "language_info": {
   "codemirror_mode": {
    "name": "ipython",
    "version": 2
   },
   "file_extension": ".py",
   "mimetype": "text/x-python",
   "name": "python",
   "nbconvert_exporter": "python",
   "pygments_lexer": "ipython2",
   "version": "2.7.11"
  }
 },
 "nbformat": 4,
 "nbformat_minor": 0
}
